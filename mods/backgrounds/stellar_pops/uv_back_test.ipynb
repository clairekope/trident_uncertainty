{
 "cells": [
  {
   "cell_type": "code",
   "execution_count": 19,
   "metadata": {},
   "outputs": [],
   "source": [
    "import fsps\n",
    "import numpy as np\n",
    "import pandas as pd\n",
    "import astropy.cosmology as cos\n",
    "from astropy.cosmology import FlatLambdaCDM\n",
    "import unyt as u\n",
    "import pickle"
   ]
  },
  {
   "cell_type": "code",
   "execution_count": 2,
   "metadata": {},
   "outputs": [
    {
     "data": {
      "text/plain": [
       "0.5096806286049151"
      ]
     },
     "execution_count": 2,
     "metadata": {},
     "output_type": "execute_result"
    }
   ],
   "source": [
    "# Convert redshift to age\n",
    "# Universe is abt 4.54 Gyrs\n",
    "\n",
    "univ_age = 13.8 # Gyr\n",
    "\n",
    "univ_age - FlatLambdaCDM(H0=70,Om0=0.3).lookback_time(20).to_value()\n"
   ]
  },
  {
   "cell_type": "code",
   "execution_count": 3,
   "metadata": {},
   "outputs": [],
   "source": [
    "rs_list = [2,2.5,3]\n",
    "\n",
    "wave = 1\n",
    "spec = 23\n",
    "\n",
    "spec_dat = {}\n",
    "for rs in rs_list:\n",
    "    age = univ_age - FlatLambdaCDM(H0=70,Om0=0.3).lookback_time(rs).to_value()\n"
   ]
  },
  {
   "cell_type": "code",
   "execution_count": null,
   "metadata": {},
   "outputs": [],
   "source": []
  },
  {
   "cell_type": "code",
   "execution_count": 16,
   "metadata": {},
   "outputs": [
    {
     "data": {
      "image/png": "[encoded data removed]",
      "text/plain": [
       "<Figure size 432x288 with 1 Axes>"
      ]
     },
     "metadata": {
      "needs_background": "light"
     },
     "output_type": "display_data"
    }
   ],
   "source": [
    "import pickle\n",
    "import matplotlib.pyplot as plt\n",
    "with open(\"spec_dat.pickle\",'rb') as b:\n",
    "        dat = pickle.load(b)\n",
    "\n",
    "plt.plot(np.log(dat[20][20]['wave']),np.log(dat[20][20]['spec']))\n",
    "# plt.plot(np.log(dat[20][18]['wave']),np.log(dat[20][18]['spec']))\n",
    "# plt.plot(np.log(dat[20][16]['wave']),np.log(dat[20][16]['spec']))\n",
    "# plt.ylim([-22.5,-20])\n",
    "plt.xlabel(\"log(Wavelength) (Angstroms)\")\n",
    "plt.ylabel(\"log(Intensity) (L/Hz/kpc)\")\n",
    "plt.title(\"Intensity of Light as a Function of Wavelength (r = 20 kpc, RS = 20)\")\n",
    "plt.show()"
   ]
  },
  {
   "cell_type": "code",
   "execution_count": 47,
   "metadata": {},
   "outputs": [],
   "source": [
    "msk = (dat[20][20]['wave']>1e3) & (dat[20][20]['wave']<4e3)\n",
    "spec = dat[20][20]['spec']\n",
    "wave = dat[20][20]['wave']"
   ]
  },
  {
   "cell_type": "code",
   "execution_count": 48,
   "metadata": {},
   "outputs": [],
   "source": [
    "with open(\"putbins.pkl\",'rb') as f:\n",
    "    nbins = np.asarray(pickle.load(f))\n",
    "\n",
    "def rebin(wave,spec):\n",
    "    \n",
    "    # convert spectral data into luminosities\n",
    "    lum = spec*((wave*1e-10)/3e8)\n",
    "    \n",
    "    nlum = np.zeros(len(nbins))\n",
    "    \n",
    "    # converting wave data into energy\n",
    "    Ryd = 2.1798723611035e-18 * u.J\n",
    "    wave = wave * u.Angstrom\n",
    "    E = wave.to(\"J\", equivalence=\"spectral\") / Ryd\n",
    "    \n",
    "    # compare converted energy data to desired binning to rebin spec data\n",
    "    for i in range(nbins.size-1, -1, -1):\n",
    "        # accounting for indexing issues in first bin\n",
    "        if i == 0:\n",
    "            print(i)\n",
    "            nlum[i] = sum(lum[np.where((E<=nbins[i]))])\n",
    "        else:\n",
    "            nlum[i] = sum(lum[np.where((E<=nbins[i])&(E>=nbins[i-1]))])\n",
    "    \n",
    "    # creating wave array for luminosity conversion\n",
    "    nE = list(nbins) * u.J\n",
    "    nwave = nE.to(\"Angstrom\", equivalence=\"spectral\") * Ryd\n",
    "    \n",
    "    # converting luminosities back into intensity\n",
    "    nspec = nlum*(3e8/(nwave.to_value()*1e-10))\n",
    "    \n",
    "    return nbins, nspec"
   ]
  },
  {
   "cell_type": "code",
   "execution_count": 49,
   "metadata": {},
   "outputs": [
    {
     "name": "stdout",
     "output_type": "stream",
     "text": [
      "0\n"
     ]
    }
   ],
   "source": [
    "nu,spec = rebin(wave,spec)"
   ]
  },
  {
   "cell_type": "code",
   "execution_count": 52,
   "metadata": {},
   "outputs": [
    {
     "name": "stdout",
     "output_type": "stream",
     "text": [
      "-29.30415045173626\n",
      "-31.136731915484567\n",
      "-32.52302627660446\n",
      "-33.33395649282079\n",
      "-33.90932063772435\n"
     ]
    },
    {
     "name": "stderr",
     "output_type": "stream",
     "text": [
      "/opt/software/Python/3.6.4-foss-2018a/lib/python3.6/site-packages/ipykernel_launcher.py:5: RuntimeWarning: divide by zero encountered in log\n",
      "  \"\"\"\n"
     ]
    }
   ],
   "source": [
    "dlist = [20,50,100,150,200]\n",
    "\n",
    "for d in dlist:\n",
    "    d_m = d*3.086e19\n",
    "    print(np.max(np.log(spec/d_m**2)))"
   ]
  },
  {
   "cell_type": "code",
   "execution_count": null,
   "metadata": {},
   "outputs": [],
   "source": []
  }
 ],
 "metadata": {
  "kernelspec": {
   "display_name": "Python 3",
   "language": "python",
   "name": "python3"
  },
  "language_info": {
   "codemirror_mode": {
    "name": "ipython",
    "version": 3
   },
   "file_extension": ".py",
   "mimetype": "text/x-python",
   "name": "python",
   "nbconvert_exporter": "python",
   "pygments_lexer": "ipython3",
   "version": "3.6.4"
  }
 },
 "nbformat": 4,
 "nbformat_minor": 2
}
