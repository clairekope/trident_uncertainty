{
 "cells": [
  {
   "cell_type": "code",
   "execution_count": 1,
   "metadata": {},
   "outputs": [],
   "source": [
    "from uvb_abun_pairwize_compare import *\n",
    "\n",
    "import numpy as np\n",
    "import matplotlib.pyplot as plt\n",
    "import pickle"
   ]
  },
  {
   "cell_type": "code",
   "execution_count": 2,
   "metadata": {},
   "outputs": [],
   "source": [
    "with open(\"/mnt/scratch/tairaeli/halo2392/redshift2.0/data/salsa_out_dict.pickle\", \"rb\") as salsa_dat:\n",
    "    salsa_out_dict = pickle.load(salsa_dat)"
   ]
  },
  {
   "cell_type": "code",
   "execution_count": 42,
   "metadata": {},
   "outputs": [
    {
     "data": {
      "text/html": [
       "<div>\n",
       "<style scoped>\n",
       "    .dataframe tbody tr th:only-of-type {\n",
       "        vertical-align: middle;\n",
       "    }\n",
       "\n",
       "    .dataframe tbody tr th {\n",
       "        vertical-align: top;\n",
       "    }\n",
       "\n",
       "    .dataframe thead th {\n",
       "        text-align: right;\n",
       "    }\n",
       "</style>\n",
       "<table border=\"1\" class=\"dataframe\">\n",
       "  <thead>\n",
       "    <tr style=\"text-align: right;\">\n",
       "      <th></th>\n",
       "      <th>name</th>\n",
       "      <th>wave</th>\n",
       "      <th>redshift</th>\n",
       "      <th>col_dens</th>\n",
       "      <th>delta_v</th>\n",
       "      <th>vel_dispersion</th>\n",
       "      <th>interval_start</th>\n",
       "      <th>interval_end</th>\n",
       "      <th>density</th>\n",
       "      <th>temperature</th>\n",
       "      <th>metallicity</th>\n",
       "      <th>radius</th>\n",
       "      <th>gas</th>\n",
       "      <th>lightray_index</th>\n",
       "    </tr>\n",
       "  </thead>\n",
       "  <tbody>\n",
       "    <tr>\n",
       "      <th>15</th>\n",
       "      <td>C II</td>\n",
       "      <td>903.962</td>\n",
       "      <td>2</td>\n",
       "      <td>13.620759</td>\n",
       "      <td>57.264883</td>\n",
       "      <td>4.112774</td>\n",
       "      <td>258</td>\n",
       "      <td>288</td>\n",
       "      <td>3.461231e-27</td>\n",
       "      <td>14096.473825</td>\n",
       "      <td>1.126270</td>\n",
       "      <td>4.403798e+24</td>\n",
       "      <td>3.461231e-27</td>\n",
       "      <td>1</td>\n",
       "    </tr>\n",
       "    <tr>\n",
       "      <th>16</th>\n",
       "      <td>C II</td>\n",
       "      <td>903.962</td>\n",
       "      <td>2</td>\n",
       "      <td>13.018301</td>\n",
       "      <td>-80.487543</td>\n",
       "      <td>4.862958</td>\n",
       "      <td>431</td>\n",
       "      <td>446</td>\n",
       "      <td>1.053845e-26</td>\n",
       "      <td>16734.639358</td>\n",
       "      <td>0.034640</td>\n",
       "      <td>2.868885e+24</td>\n",
       "      <td>1.053845e-26</td>\n",
       "      <td>1</td>\n",
       "    </tr>\n",
       "    <tr>\n",
       "      <th>17</th>\n",
       "      <td>C II</td>\n",
       "      <td>903.962</td>\n",
       "      <td>2</td>\n",
       "      <td>14.086858</td>\n",
       "      <td>-84.984180</td>\n",
       "      <td>54.686676</td>\n",
       "      <td>453</td>\n",
       "      <td>471</td>\n",
       "      <td>1.975075e-26</td>\n",
       "      <td>17563.523177</td>\n",
       "      <td>0.084406</td>\n",
       "      <td>2.798336e+24</td>\n",
       "      <td>1.975075e-26</td>\n",
       "      <td>1</td>\n",
       "    </tr>\n",
       "    <tr>\n",
       "      <th>18</th>\n",
       "      <td>C II</td>\n",
       "      <td>903.962</td>\n",
       "      <td>2</td>\n",
       "      <td>13.984135</td>\n",
       "      <td>133.783336</td>\n",
       "      <td>9.846502</td>\n",
       "      <td>556</td>\n",
       "      <td>559</td>\n",
       "      <td>1.284301e-26</td>\n",
       "      <td>91024.777005</td>\n",
       "      <td>0.503129</td>\n",
       "      <td>2.605060e+24</td>\n",
       "      <td>1.284301e-26</td>\n",
       "      <td>1</td>\n",
       "    </tr>\n",
       "    <tr>\n",
       "      <th>19</th>\n",
       "      <td>C II</td>\n",
       "      <td>903.962</td>\n",
       "      <td>2</td>\n",
       "      <td>13.805770</td>\n",
       "      <td>151.592913</td>\n",
       "      <td>7.364283</td>\n",
       "      <td>661</td>\n",
       "      <td>673</td>\n",
       "      <td>1.650916e-26</td>\n",
       "      <td>12752.766000</td>\n",
       "      <td>0.122348</td>\n",
       "      <td>3.134823e+24</td>\n",
       "      <td>1.650916e-26</td>\n",
       "      <td>1</td>\n",
       "    </tr>\n",
       "    <tr>\n",
       "      <th>20</th>\n",
       "      <td>C II</td>\n",
       "      <td>903.962</td>\n",
       "      <td>2</td>\n",
       "      <td>14.059345</td>\n",
       "      <td>21.777890</td>\n",
       "      <td>2.045044</td>\n",
       "      <td>787</td>\n",
       "      <td>797</td>\n",
       "      <td>1.659685e-26</td>\n",
       "      <td>14799.338407</td>\n",
       "      <td>0.223358</td>\n",
       "      <td>3.129732e+24</td>\n",
       "      <td>1.659685e-26</td>\n",
       "      <td>1</td>\n",
       "    </tr>\n",
       "  </tbody>\n",
       "</table>\n",
       "</div>"
      ],
      "text/plain": [
       "    name     wave  redshift   col_dens     delta_v  vel_dispersion  \\\n",
       "15  C II  903.962         2  13.620759   57.264883        4.112774   \n",
       "16  C II  903.962         2  13.018301  -80.487543        4.862958   \n",
       "17  C II  903.962         2  14.086858  -84.984180       54.686676   \n",
       "18  C II  903.962         2  13.984135  133.783336        9.846502   \n",
       "19  C II  903.962         2  13.805770  151.592913        7.364283   \n",
       "20  C II  903.962         2  14.059345   21.777890        2.045044   \n",
       "\n",
       "    interval_start  interval_end       density   temperature  metallicity  \\\n",
       "15             258           288  3.461231e-27  14096.473825     1.126270   \n",
       "16             431           446  1.053845e-26  16734.639358     0.034640   \n",
       "17             453           471  1.975075e-26  17563.523177     0.084406   \n",
       "18             556           559  1.284301e-26  91024.777005     0.503129   \n",
       "19             661           673  1.650916e-26  12752.766000     0.122348   \n",
       "20             787           797  1.659685e-26  14799.338407     0.223358   \n",
       "\n",
       "          radius           gas  lightray_index  \n",
       "15  4.403798e+24  3.461231e-27               1  \n",
       "16  2.868885e+24  1.053845e-26               1  \n",
       "17  2.798336e+24  1.975075e-26               1  \n",
       "18  2.605060e+24  1.284301e-26               1  \n",
       "19  3.134823e+24  1.650916e-26               1  \n",
       "20  3.129732e+24  1.659685e-26               1  "
      ]
     },
     "execution_count": 42,
     "metadata": {},
     "output_type": "execute_result"
    }
   ],
   "source": [
    "salsa_out_dict[\"C II\"][\"PCW_2019\"][salsa_out_dict[\"C II\"][\"PCW_2019\"][\"lightray_index\"] == 1]"
   ]
  },
  {
   "cell_type": "code",
   "execution_count": null,
   "metadata": {},
   "outputs": [],
   "source": []
  },
  {
   "cell_type": "code",
   "execution_count": 52,
   "metadata": {},
   "outputs": [
    {
     "name": "stdout",
     "output_type": "stream",
     "text": [
      "15\n"
     ]
    }
   ],
   "source": [
    "%reload_ext autoreload\n",
    "%autoreload 2\n",
    "\n",
    "ion_list = [\"C II\"]\n",
    "\n",
    "match, shorter, longer, split, merge, lonely_1, lonely_2 = pairwize_compare(salsa_out_dict, \n",
    "                                                                            ion_list, \n",
    "                                                                            1)\n"
   ]
  },
  {
   "cell_type": "code",
   "execution_count": 53,
   "metadata": {},
   "outputs": [
    {
     "name": "stdout",
     "output_type": "stream",
     "text": [
      "{0: 0, 1: 1, 2: 2, 3: 3, 4: 4, 5: 5, 6: 6, 7: 7, 8: 8, 9: 9, 10: 10, 11: 11, 12: 12, 13: 13, 14: 14} {} {} {} {} [] []\n"
     ]
    }
   ],
   "source": [
    "print(match, shorter, longer, split, merge, lonely_1, lonely_2)"
   ]
  },
  {
   "cell_type": "code",
   "execution_count": null,
   "metadata": {},
   "outputs": [],
   "source": []
  }
 ],
 "metadata": {
  "kernelspec": {
   "display_name": "Python 3",
   "language": "python",
   "name": "python3"
  },
  "language_info": {
   "codemirror_mode": {
    "name": "ipython",
    "version": 3
   },
   "file_extension": ".py",
   "mimetype": "text/x-python",
   "name": "python",
   "nbconvert_exporter": "python",
   "pygments_lexer": "ipython3",
   "version": "3.6.4"
  }
 },
 "nbformat": 4,
 "nbformat_minor": 2
}
