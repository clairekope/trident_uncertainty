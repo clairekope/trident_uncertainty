{
 "cells": [
  {
   "cell_type": "code",
   "execution_count": 2,
   "metadata": {},
   "outputs": [],
   "source": [
    "from abundance_compare import *\n",
    "from saltistics import abundance_stats\n",
    "import numpy as np\n",
    "import matplotlib.pyplot as plt\n",
    "import pandas as pd\n",
    "import pickle"
   ]
  },
  {
   "cell_type": "code",
   "execution_count": 3,
   "metadata": {},
   "outputs": [],
   "source": [
    "salsa_out = \"/mnt/scratch/tairaeli/halo2392/redshift2.0/data/salsa_out_dict.pickle\"\n",
    "\n",
    "with open(salsa_out, \"rb\") as f:\n",
    "    salsa_out_dict = pickle.load(f)"
   ]
  },
  {
   "cell_type": "code",
   "execution_count": 4,
   "metadata": {},
   "outputs": [],
   "source": [
    "# salsa_out_dict[\"C II\"][0]"
   ]
  },
  {
   "cell_type": "code",
   "execution_count": 5,
   "metadata": {
    "scrolled": true
   },
   "outputs": [
    {
     "name": "stdout",
     "output_type": "stream",
     "text": [
      "Hassles: (2, [[322, 329], [329, 331]])\n",
      "Hassles: (3, [[322, 329], [329, 331]])\n",
      "Hassles: (4, [[322, 329], [329, 331]])\n",
      "Hassles: (5, [[322, 329], [329, 331]])\n",
      "Hassles: (6, [[322, 329], [329, 331]])\n",
      "Hassles: (7, [[322, 329], [329, 331]])\n",
      "Hassles: (8, [[322, 329], [329, 331]])\n",
      "Hassles: (10, [[322, 329], [329, 331]])\n",
      "Hassles: (11, [[322, 329], [329, 331]])\n",
      "Hassles: (12, [[322, 329], [329, 331]])\n",
      "Hassles: (13, [[322, 329], [329, 331]])\n",
      "Hassles: (14, [[322, 329], [329, 331]])\n",
      "Hassles: (15, [[322, 329], [329, 331]])\n",
      "Hassles: (16, [[322, 329], [329, 331]])\n",
      "Hassles: (17, [[322, 329], [329, 331]])\n",
      "Hassles: (18, [[322, 329], [329, 331]])\n",
      "Hassles: (19, [[322, 329], [329, 331]])\n",
      "Hassles: (20, [[322, 329], [329, 331]])\n",
      "Hassles: (21, [[322, 329], [329, 331]])\n"
     ]
    }
   ],
   "source": [
    "%reload_ext autoreload\n",
    "%autoreload 2\n",
    "\n",
    "ion_list =[\"C II\", \"C IV\", \"O VI\"]\n",
    "raynum = 4\n",
    "\n",
    "compare_dict = abundance_compare(salsa_out_dict, ion_list, raynum)"
   ]
  },
  {
   "cell_type": "code",
   "execution_count": 6,
   "metadata": {
    "scrolled": true
   },
   "outputs": [
    {
     "name": "stdout",
     "output_type": "stream",
     "text": [
      "Match: 10 329 329\n",
      "Match: 1 331 331\n",
      "Match: 1 372 372\n",
      "Match: 1 427 427\n",
      "Match: 1 429 429\n",
      "Match: 1 435 435\n",
      "Match: 1 504 504\n",
      "Match: 1 512 512\n",
      "Match: 1 520 520\n",
      "Match: 1 535 535\n",
      "Match: 1 557 557\n",
      "Match: 1 569 569\n",
      "Match: 10 572 572\n",
      "Match: 1 574 574\n",
      "Match: 10 258 258\n"
     ]
    },
    {
     "name": "stderr",
     "output_type": "stream",
     "text": [
      "/mnt/ufs18/home-202/tairaeli/trident_uncertainty/mods/abundances/scripts/saltistics.py:237: RuntimeWarning: invalid value encountered in log10\n",
      "  diff_from_sol.append(np.log10((10 ** sol_ab_col_dens) -(10 ** np.median(full_col_density))))\n"
     ]
    },
    {
     "name": "stdout",
     "output_type": "stream",
     "text": [
      "0    13.521552\n",
      "1    13.575917\n",
      "2    13.245248\n",
      "3    13.503021\n",
      "4    13.749427\n",
      "Name: col_dens, dtype: float64\n",
      "Match: 10 453 453\n",
      "Match: 2 556 556\n",
      "Match: 1 661 661\n",
      "Match: 10 787 787\n",
      "0    13.521552\n",
      "1    13.575917\n",
      "2    13.245248\n",
      "3    13.503021\n",
      "4    13.749427\n",
      "Name: col_dens, dtype: float64\n",
      "Match: 1 356 356\n",
      "Match: 1 604 604\n",
      "Match: 1 681 681\n",
      "Match: 1 696 696\n",
      "Match: 1 720 720\n",
      "Match: 1 370 370\n",
      "Match: 1 426 426\n",
      "Match: 1 479 479\n",
      "Match: 1 637 637\n",
      "Match: 1 807 807\n",
      "29 29 29 29 29 29\n",
      "Match: 10 246 246\n",
      "Match: 1 289 289\n",
      "Match: 10 331 331\n",
      "Match: 1 372 372\n",
      "Match: 1 421 421\n",
      "Match: 1 425 425\n",
      "Match: 1 432 432\n",
      "Match: 1 504 504\n",
      "Match: 1 512 512\n",
      "Match: 1 520 520\n",
      "Match: 1 533 533\n",
      "Match: 1 557 557\n"
     ]
    },
    {
     "name": "stderr",
     "output_type": "stream",
     "text": [
      "/mnt/ufs18/home-202/tairaeli/trident_uncertainty/mods/abundances/scripts/saltistics.py:237: RuntimeWarning: invalid value encountered in log10\n",
      "  diff_from_sol.append(np.log10((10 ** sol_ab_col_dens) -(10 ** np.median(full_col_density))))\n",
      "/mnt/ufs18/home-202/tairaeli/trident_uncertainty/mods/abundances/scripts/saltistics.py:237: RuntimeWarning: invalid value encountered in log10\n",
      "  diff_from_sol.append(np.log10((10 ** sol_ab_col_dens) -(10 ** np.median(full_col_density))))\n",
      "/mnt/ufs18/home-202/tairaeli/trident_uncertainty/mods/abundances/scripts/saltistics.py:237: RuntimeWarning: invalid value encountered in log10\n",
      "  diff_from_sol.append(np.log10((10 ** sol_ab_col_dens) -(10 ** np.median(full_col_density))))\n"
     ]
    },
    {
     "name": "stdout",
     "output_type": "stream",
     "text": [
      "Match: 1 571 571\n",
      "Match: 1 616 616\n",
      "Match: 1 257 257\n",
      "Match: 1 431 431\n",
      "Match: 1 454 454\n",
      "Match: 1 555 555\n",
      "Match: 1 651 651\n",
      "Match: 1 787 787\n",
      "Match: 2 918 918\n",
      "Match: 1 352 352\n",
      "Match: 1 416 416\n",
      "Match: 1 430 430\n",
      "Match: 1 453 453\n",
      "Match: 1 603 603\n",
      "Match: 1 648 648\n",
      "Match: 1 679 679\n",
      "Match: 1 711 711\n",
      "Match: 1 735 735\n",
      "Match: 1 808 808\n",
      "Match: 1 368 368\n",
      "Match: 1 423 423\n",
      "Match: 1 479 479\n",
      "Match: 1 637 637\n"
     ]
    },
    {
     "name": "stderr",
     "output_type": "stream",
     "text": [
      "/mnt/ufs18/home-202/tairaeli/trident_uncertainty/mods/abundances/scripts/saltistics.py:237: RuntimeWarning: invalid value encountered in log10\n",
      "  diff_from_sol.append(np.log10((10 ** sol_ab_col_dens) -(10 ** np.median(full_col_density))))\n",
      "/mnt/ufs18/home-202/tairaeli/trident_uncertainty/mods/abundances/scripts/saltistics.py:237: RuntimeWarning: invalid value encountered in log10\n",
      "  diff_from_sol.append(np.log10((10 ** sol_ab_col_dens) -(10 ** np.median(full_col_density))))\n",
      "/mnt/ufs18/home-202/tairaeli/trident_uncertainty/mods/abundances/scripts/saltistics.py:237: RuntimeWarning: invalid value encountered in log10\n",
      "  diff_from_sol.append(np.log10((10 ** sol_ab_col_dens) -(10 ** np.median(full_col_density))))\n"
     ]
    },
    {
     "name": "stdout",
     "output_type": "stream",
     "text": [
      "Match: 1 775 775\n",
      "36 36 36 36 36 36\n",
      "Match: 1 32 32\n",
      "Short: 21 41 41\n",
      "Match: 11 73 73\n",
      "Match: 1 224 224\n",
      "Match: 2 322 322\n",
      "0    12.928625\n",
      "1    13.779883\n",
      "2    13.622279\n",
      "3    13.563880\n",
      "4    13.375257\n",
      "5    13.559411\n",
      "6    13.446842\n",
      "7    12.974921\n",
      "Name: col_dens, dtype: float64\n",
      "Match: 2 367 367\n",
      "Match: 1 381 381\n",
      "Match: 1 405 405\n",
      "Match: 10 528 528\n",
      "Match: 1 674 674\n",
      "Match: 1 779 779\n"
     ]
    },
    {
     "name": "stderr",
     "output_type": "stream",
     "text": [
      "/mnt/ufs18/home-202/tairaeli/trident_uncertainty/mods/abundances/scripts/saltistics.py:237: RuntimeWarning: invalid value encountered in log10\n",
      "  diff_from_sol.append(np.log10((10 ** sol_ab_col_dens) -(10 ** np.median(full_col_density))))\n",
      "/mnt/ufs18/home-202/tairaeli/trident_uncertainty/mods/abundances/scripts/saltistics.py:237: RuntimeWarning: invalid value encountered in log10\n",
      "  diff_from_sol.append(np.log10((10 ** sol_ab_col_dens) -(10 ** np.median(full_col_density))))\n",
      "/mnt/ufs18/home-202/tairaeli/trident_uncertainty/mods/abundances/scripts/saltistics.py:237: RuntimeWarning: invalid value encountered in log10\n",
      "  diff_from_sol.append(np.log10((10 ** sol_ab_col_dens) -(10 ** np.median(full_col_density))))\n",
      "/mnt/ufs18/home-202/tairaeli/trident_uncertainty/mods/abundances/scripts/saltistics.py:237: RuntimeWarning: invalid value encountered in log10\n",
      "  diff_from_sol.append(np.log10((10 ** sol_ab_col_dens) -(10 ** np.median(full_col_density))))\n",
      "/mnt/ufs18/home-202/tairaeli/trident_uncertainty/mods/abundances/scripts/saltistics.py:237: RuntimeWarning: invalid value encountered in log10\n",
      "  diff_from_sol.append(np.log10((10 ** sol_ab_col_dens) -(10 ** np.median(full_col_density))))\n",
      "/mnt/ufs18/home-202/tairaeli/trident_uncertainty/mods/abundances/scripts/saltistics.py:237: RuntimeWarning: invalid value encountered in log10\n",
      "  diff_from_sol.append(np.log10((10 ** sol_ab_col_dens) -(10 ** np.median(full_col_density))))\n",
      "/mnt/ufs18/home-202/tairaeli/trident_uncertainty/mods/abundances/scripts/saltistics.py:237: RuntimeWarning: invalid value encountered in log10\n",
      "  diff_from_sol.append(np.log10((10 ** sol_ab_col_dens) -(10 ** np.median(full_col_density))))\n",
      "/mnt/ufs18/home-202/tairaeli/trident_uncertainty/mods/abundances/scripts/saltistics.py:237: RuntimeWarning: invalid value encountered in log10\n",
      "  diff_from_sol.append(np.log10((10 ** sol_ab_col_dens) -(10 ** np.median(full_col_density))))\n"
     ]
    },
    {
     "name": "stdout",
     "output_type": "stream",
     "text": [
      "Match: 1 797 797\n",
      "0    13.604329\n",
      "1    13.363269\n",
      "2    13.844022\n",
      "3    13.139529\n",
      "4    13.761377\n",
      "5    13.185918\n",
      "6    12.950436\n",
      "7    13.178694\n",
      "8    12.826151\n",
      "Name: col_dens, dtype: float64\n",
      "Short: 21 42 26\n",
      "Match: 2 146 146\n",
      "0    13.604329\n",
      "1    13.363269\n",
      "2    13.844022\n",
      "3    13.139529\n",
      "4    13.761377\n",
      "5    13.185918\n",
      "6    12.950436\n",
      "7    13.178694\n",
      "8    12.826151\n",
      "Name: col_dens, dtype: float64\n",
      "Short: 21 184 167\n",
      "Match: 1 248 248\n",
      "Match: 1 468 468\n",
      "Match: 1 542 542\n",
      "Match: 1 597 597\n",
      "Match: 1 647 647\n",
      "Match: 1 666 666\n",
      "Match: 1 785 785\n",
      "Match: 2 916 916\n"
     ]
    },
    {
     "name": "stderr",
     "output_type": "stream",
     "text": [
      "/mnt/ufs18/home-202/tairaeli/trident_uncertainty/mods/abundances/scripts/saltistics.py:237: RuntimeWarning: invalid value encountered in log10\n",
      "  diff_from_sol.append(np.log10((10 ** sol_ab_col_dens) -(10 ** np.median(full_col_density))))\n",
      "/mnt/ufs18/home-202/tairaeli/trident_uncertainty/mods/abundances/scripts/saltistics.py:237: RuntimeWarning: invalid value encountered in log10\n",
      "  diff_from_sol.append(np.log10((10 ** sol_ab_col_dens) -(10 ** np.median(full_col_density))))\n",
      "/mnt/ufs18/home-202/tairaeli/trident_uncertainty/mods/abundances/scripts/saltistics.py:237: RuntimeWarning: invalid value encountered in log10\n",
      "  diff_from_sol.append(np.log10((10 ** sol_ab_col_dens) -(10 ** np.median(full_col_density))))\n",
      "/mnt/ufs18/home-202/tairaeli/trident_uncertainty/mods/abundances/scripts/saltistics.py:237: RuntimeWarning: invalid value encountered in log10\n",
      "  diff_from_sol.append(np.log10((10 ** sol_ab_col_dens) -(10 ** np.median(full_col_density))))\n",
      "/mnt/ufs18/home-202/tairaeli/trident_uncertainty/mods/abundances/scripts/saltistics.py:237: RuntimeWarning: invalid value encountered in log10\n",
      "  diff_from_sol.append(np.log10((10 ** sol_ab_col_dens) -(10 ** np.median(full_col_density))))\n",
      "/mnt/ufs18/home-202/tairaeli/trident_uncertainty/mods/abundances/scripts/saltistics.py:237: RuntimeWarning: invalid value encountered in log10\n",
      "  diff_from_sol.append(np.log10((10 ** sol_ab_col_dens) -(10 ** np.median(full_col_density))))\n",
      "/mnt/ufs18/home-202/tairaeli/trident_uncertainty/mods/abundances/scripts/saltistics.py:237: RuntimeWarning: invalid value encountered in log10\n",
      "  diff_from_sol.append(np.log10((10 ** sol_ab_col_dens) -(10 ** np.median(full_col_density))))\n",
      "/mnt/ufs18/home-202/tairaeli/trident_uncertainty/mods/abundances/scripts/saltistics.py:237: RuntimeWarning: invalid value encountered in log10\n",
      "  diff_from_sol.append(np.log10((10 ** sol_ab_col_dens) -(10 ** np.median(full_col_density))))\n",
      "/mnt/ufs18/home-202/tairaeli/trident_uncertainty/mods/abundances/scripts/saltistics.py:237: RuntimeWarning: invalid value encountered in log10\n",
      "  diff_from_sol.append(np.log10((10 ** sol_ab_col_dens) -(10 ** np.median(full_col_density))))\n",
      "/mnt/ufs18/home-202/tairaeli/trident_uncertainty/mods/abundances/scripts/saltistics.py:237: RuntimeWarning: invalid value encountered in log10\n",
      "  diff_from_sol.append(np.log10((10 ** sol_ab_col_dens) -(10 ** np.median(full_col_density))))\n",
      "/mnt/ufs18/home-202/tairaeli/trident_uncertainty/mods/abundances/scripts/saltistics.py:237: RuntimeWarning: invalid value encountered in log10\n",
      "  diff_from_sol.append(np.log10((10 ** sol_ab_col_dens) -(10 ** np.median(full_col_density))))\n",
      "/mnt/ufs18/home-202/tairaeli/trident_uncertainty/mods/abundances/scripts/saltistics.py:237: RuntimeWarning: invalid value encountered in log10\n",
      "  diff_from_sol.append(np.log10((10 ** sol_ab_col_dens) -(10 ** np.median(full_col_density))))\n",
      "/mnt/ufs18/home-202/tairaeli/trident_uncertainty/mods/abundances/scripts/saltistics.py:237: RuntimeWarning: invalid value encountered in log10\n",
      "  diff_from_sol.append(np.log10((10 ** sol_ab_col_dens) -(10 ** np.median(full_col_density))))\n"
     ]
    },
    {
     "name": "stdout",
     "output_type": "stream",
     "text": [
      "Match: 10 44 44\n",
      "Match: 1 349 349\n",
      "Match: 1 369 369\n",
      "Match: 1 404 404\n",
      "Match: 1 474 474\n",
      "Match: 1 620 620\n",
      "Match: 1 740 740\n",
      "Match: 2 882 882\n",
      "Match: 10 47 47\n",
      "0    13.544643\n",
      "1    13.761519\n",
      "2    13.408841\n",
      "3    13.181330\n",
      "4    13.943394\n",
      "Name: col_dens, dtype: float64\n",
      "Match: 10 164 164\n",
      "0    13.544643\n",
      "1    13.761519\n",
      "2    13.408841\n",
      "3    13.181330\n",
      "4    13.943394\n",
      "Name: col_dens, dtype: float64\n",
      "Match: 10 226 226\n",
      "Match: 10 380 380\n",
      "Match: 10 453 453\n",
      "0    13.544643\n",
      "1    13.761519\n",
      "2    13.408841\n",
      "3    13.181330\n",
      "4    13.943394\n",
      "Name: col_dens, dtype: float64\n",
      "Match: 10 542 542\n",
      "0    13.544643\n",
      "1    13.761519\n",
      "2    13.408841\n",
      "3    13.181330\n",
      "4    13.943394\n",
      "Name: col_dens, dtype: float64\n",
      "Match: 10 623 623\n",
      "Match: 10 686 686\n",
      "Match: 10 750 750\n",
      "Match: 10 831 831\n",
      "Match: 10 887 887\n",
      "0    13.544643\n",
      "1    13.761519\n",
      "2    13.408841\n",
      "3    13.181330\n",
      "4    13.943394\n",
      "Name: col_dens, dtype: float64\n",
      "42 42 42 42 42 42\n"
     ]
    },
    {
     "name": "stderr",
     "output_type": "stream",
     "text": [
      "/mnt/ufs18/home-202/tairaeli/trident_uncertainty/mods/abundances/scripts/saltistics.py:237: RuntimeWarning: invalid value encountered in log10\n",
      "  diff_from_sol.append(np.log10((10 ** sol_ab_col_dens) -(10 ** np.median(full_col_density))))\n",
      "/mnt/ufs18/home-202/tairaeli/trident_uncertainty/mods/abundances/scripts/saltistics.py:237: RuntimeWarning: invalid value encountered in log10\n",
      "  diff_from_sol.append(np.log10((10 ** sol_ab_col_dens) -(10 ** np.median(full_col_density))))\n",
      "/mnt/ufs18/home-202/tairaeli/trident_uncertainty/mods/abundances/scripts/saltistics.py:237: RuntimeWarning: invalid value encountered in log10\n",
      "  diff_from_sol.append(np.log10((10 ** sol_ab_col_dens) -(10 ** np.median(full_col_density))))\n",
      "/mnt/ufs18/home-202/tairaeli/trident_uncertainty/mods/abundances/scripts/saltistics.py:237: RuntimeWarning: invalid value encountered in log10\n",
      "  diff_from_sol.append(np.log10((10 ** sol_ab_col_dens) -(10 ** np.median(full_col_density))))\n",
      "/mnt/ufs18/home-202/tairaeli/trident_uncertainty/mods/abundances/scripts/saltistics.py:237: RuntimeWarning: invalid value encountered in log10\n",
      "  diff_from_sol.append(np.log10((10 ** sol_ab_col_dens) -(10 ** np.median(full_col_density))))\n",
      "/mnt/ufs18/home-202/tairaeli/trident_uncertainty/mods/abundances/scripts/saltistics.py:237: RuntimeWarning: invalid value encountered in log10\n",
      "  diff_from_sol.append(np.log10((10 ** sol_ab_col_dens) -(10 ** np.median(full_col_density))))\n",
      "/mnt/ufs18/home-202/tairaeli/trident_uncertainty/mods/abundances/scripts/saltistics.py:237: RuntimeWarning: invalid value encountered in log10\n",
      "  diff_from_sol.append(np.log10((10 ** sol_ab_col_dens) -(10 ** np.median(full_col_density))))\n",
      "/mnt/ufs18/home-202/tairaeli/trident_uncertainty/mods/abundances/scripts/saltistics.py:237: RuntimeWarning: invalid value encountered in log10\n",
      "  diff_from_sol.append(np.log10((10 ** sol_ab_col_dens) -(10 ** np.median(full_col_density))))\n"
     ]
    }
   ],
   "source": [
    "stat_dict = abundance_stats(compare_dict, salsa_out_dict, ion_list, raynum)"
   ]
  },
  {
   "cell_type": "code",
   "execution_count": 37,
   "metadata": {},
   "outputs": [],
   "source": [
    "rw_c2_r0 = stat_dict[\"C II\"][stat_dict[\"C II\"][\"ray_num\"] == 0]\n",
    "rw_c4_r0 = stat_dict[\"C IV\"][stat_dict[\"C IV\"][\"ray_num\"] == 0]\n",
    "rw_o6_r0 = stat_dict[\"O VI\"][stat_dict[\"O VI\"][\"ray_num\"] == 0]"
   ]
  },
  {
   "cell_type": "code",
   "execution_count": 38,
   "metadata": {},
   "outputs": [],
   "source": [
    "alexis_dat = pd.read_csv(\"/mnt/research/galaxies-REU/amrollins/data/halo2392/redshift2.0/stats/2392_z2.0_C_II_abun_all-model-families_all-clumps.csv\",\n",
    "                        delim_whitespace = True)\n",
    "al_c2_r0 = alexis_dat[alexis_dat[\"ray_num\"] == 0]"
   ]
  },
  {
   "cell_type": "code",
   "execution_count": 41,
   "metadata": {},
   "outputs": [],
   "source": [
    "reworked_dat = pd.read_csv(\"/mnt/scratch/tairaeli/halo2392/redshift2.0/stats/2392_z2.0_C II_abun_all-model-families_all-clumps.csv\",\n",
    "                           delim_whitespace = True)\n",
    "rw_c2_r0 = reworked_dat[reworked_dat[\"ray_num\"] == 0]"
   ]
  },
  {
   "cell_type": "code",
   "execution_count": 58,
   "metadata": {},
   "outputs": [
    {
     "data": {
      "text/plain": [
       "<matplotlib.legend.Legend at 0x2af472022b38>"
      ]
     },
     "execution_count": 58,
     "metadata": {},
     "output_type": "execute_result"
    },
    {
     "data": {
      "image/png": "[encoded data removed]",
      "text/plain": [
       "<Figure size 720x576 with 1 Axes>"
      ]
     },
     "metadata": {
      "needs_background": "light"
     },
     "output_type": "display_data"
    }
   ],
   "source": [
    "fig, ax = plt.subplots(1,1, figsize = [10,8])\n",
    "\n",
    "ax.plot(al_c2_r0[\"super_clump_number\"], al_c2_r0[\"median_col_desnity\"], \n",
    "         linestyle = \"\", \n",
    "         marker = \"o\", \n",
    "         label = \"Alexis' data\")\n",
    "\n",
    "ax.plot(rw_c2_r0[\"super_clump_number\"], c2_pn_r0[\"median_col_desnity\"], \n",
    "         linestyle = \"\", \n",
    "         marker = \"o\", \n",
    "         label = \"Reworked model\")\n",
    "\n",
    "ax.set_xlabel(\"Super Clump ID\")\n",
    "ax.set_ylabel(\"Median Column Density (Log)\")\n",
    "ax.legend()"
   ]
  },
  {
   "cell_type": "code",
   "execution_count": null,
   "metadata": {},
   "outputs": [],
   "source": []
  }
 ],
 "metadata": {
  "kernelspec": {
   "display_name": "Python 3",
   "language": "python",
   "name": "python3"
  },
  "language_info": {
   "codemirror_mode": {
    "name": "ipython",
    "version": 3
   },
   "file_extension": ".py",
   "mimetype": "text/x-python",
   "name": "python",
   "nbconvert_exporter": "python",
   "pygments_lexer": "ipython3",
   "version": "3.6.4"
  }
 },
 "nbformat": 4,
 "nbformat_minor": 2
}
