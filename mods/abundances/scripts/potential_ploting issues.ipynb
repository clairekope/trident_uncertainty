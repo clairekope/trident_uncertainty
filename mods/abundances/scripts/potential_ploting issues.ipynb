{
 "cells": [
  {
   "cell_type": "code",
   "execution_count": 1,
   "metadata": {},
   "outputs": [],
   "source": [
    "import pandas as pd\n",
    "import numpy as np\n",
    "import matplotlib.pyplot as plt"
   ]
  },
  {
   "cell_type": "code",
   "execution_count": 2,
   "metadata": {},
   "outputs": [],
   "source": [
    "df = pd.read_csv(\"/mnt/home/tairaeli/trident_uncertainty/mods/abundances/data_bin/abundances_AGB_massive_yields_halo2392.csv\",skiprows = 1, header =None, names = ['H', 'He', 'Li', 'Be', 'B', 'C', 'N', 'O', 'F', 'Ne', 'Na', 'Mg', 'Al', 'Si', 'P', 'S', 'Cl', 'Ar', 'K','Ca', 'Sc', 'Ti', 'V', 'Cr', 'Mn', 'Fe', 'Co', 'Ni', 'Cu', 'Zn'])\n",
    "df.to_csv(\"./abun_table.txt\", sep = \" \")"
   ]
  },
  {
   "cell_type": "code",
   "execution_count": 3,
   "metadata": {},
   "outputs": [],
   "source": [
    "def read_sal(uvblis,ionlis):\n",
    "    iondat = []\n",
    "    for uvb in uvblis:\n",
    "        for ion in ionlis:\n",
    "            iondat.append(pd.read_csv(f\"/mnt/scratch/tairaeli/{dic}/redshift2.0/stats/2392_z2.0_{ion}_abun_all-model-families_all-clumps.csv\", delim_whitespace = True))\n",
    "    return ionlis"
   ]
  },
  {
   "cell_type": "code",
   "execution_count": 4,
   "metadata": {},
   "outputs": [],
   "source": [
    "dirlis = [\"halo2392_pn2\",\"halo2392_hm2\",\"halo2392_fg2\"]"
   ]
  },
  {
   "cell_type": "code",
   "execution_count": 5,
   "metadata": {},
   "outputs": [],
   "source": [
    "c2_pn = pd.read_csv(\"/mnt/scratch/tairaeli/halo2392_pn2/redshift2.0/stats/2392_z2.0_C_II_abun_all-model-families_all-clumps.csv\", delim_whitespace = True)\n",
    "c4_pn = pd.read_csv(\"/mnt/scratch/tairaeli/halo2392_pn2/redshift2.0/stats/2392_z2.0_C_IV_abun_all-model-families_all-clumps.csv\", delim_whitespace = True)\n",
    "o6_pn = pd.read_csv(\"/mnt/scratch/tairaeli/halo2392_pn2/redshift2.0/stats/2392_z2.0_O_VI_abun_all-model-families_all-clumps.csv\", delim_whitespace = True)\n",
    "\n",
    "c2_hm = pd.read_csv(\"/mnt/scratch/tairaeli/halo2392_hm2/redshift2.0/stats/2392_z2.0_C_II_abun_all-model-families_all-clumps.csv\", delim_whitespace = True)\n",
    "c4_hm = pd.read_csv(\"/mnt/scratch/tairaeli/halo2392_hm2/redshift2.0/stats/2392_z2.0_C_IV_abun_all-model-families_all-clumps.csv\", delim_whitespace = True)\n",
    "o6_hm = pd.read_csv(\"/mnt/scratch/tairaeli/halo2392_hm2/redshift2.0/stats/2392_z2.0_O_VI_abun_all-model-families_all-clumps.csv\", delim_whitespace = True)\n",
    "\n",
    "\n",
    "c2_fg = pd.read_csv(\"/mnt/scratch/tairaeli/halo2392_fg2/redshift2.0/stats/2392_z2.0_C_II_abun_all-model-families_all-clumps.csv\", delim_whitespace = True)\n",
    "c4_fg = pd.read_csv(\"/mnt/scratch/tairaeli/halo2392_fg2/redshift2.0/stats/2392_z2.0_C_IV_abun_all-model-families_all-clumps.csv\", delim_whitespace = True)\n",
    "o6_fg = pd.read_csv(\"/mnt/scratch/tairaeli/halo2392_fg2/redshift2.0/stats/2392_z2.0_O_VI_abun_all-model-families_all-clumps.csv\", delim_whitespace = True)\n"
   ]
  },
  {
   "cell_type": "code",
   "execution_count": 6,
   "metadata": {},
   "outputs": [
    {
     "data": {
      "text/html": [
       "<div>\n",
       "<style scoped>\n",
       "    .dataframe tbody tr th:only-of-type {\n",
       "        vertical-align: middle;\n",
       "    }\n",
       "\n",
       "    .dataframe tbody tr th {\n",
       "        vertical-align: top;\n",
       "    }\n",
       "\n",
       "    .dataframe thead th {\n",
       "        text-align: right;\n",
       "    }\n",
       "</style>\n",
       "<table border=\"1\" class=\"dataframe\">\n",
       "  <thead>\n",
       "    <tr style=\"text-align: right;\">\n",
       "      <th></th>\n",
       "      <th>ray_num</th>\n",
       "      <th>super_clump_number</th>\n",
       "      <th>median_col_desnity</th>\n",
       "      <th>mad_for_col_desnity</th>\n",
       "    </tr>\n",
       "  </thead>\n",
       "  <tbody>\n",
       "    <tr>\n",
       "      <th>0</th>\n",
       "      <td>0</td>\n",
       "      <td>0</td>\n",
       "      <td>14.130134</td>\n",
       "      <td>0.059566</td>\n",
       "    </tr>\n",
       "    <tr>\n",
       "      <th>1</th>\n",
       "      <td>0</td>\n",
       "      <td>1</td>\n",
       "      <td>15.881839</td>\n",
       "      <td>0.059566</td>\n",
       "    </tr>\n",
       "    <tr>\n",
       "      <th>2</th>\n",
       "      <td>0</td>\n",
       "      <td>2</td>\n",
       "      <td>17.169586</td>\n",
       "      <td>0.059566</td>\n",
       "    </tr>\n",
       "    <tr>\n",
       "      <th>3</th>\n",
       "      <td>0</td>\n",
       "      <td>3</td>\n",
       "      <td>13.577525</td>\n",
       "      <td>0.059566</td>\n",
       "    </tr>\n",
       "    <tr>\n",
       "      <th>4</th>\n",
       "      <td>0</td>\n",
       "      <td>4</td>\n",
       "      <td>14.921572</td>\n",
       "      <td>0.050391</td>\n",
       "    </tr>\n",
       "    <tr>\n",
       "      <th>5</th>\n",
       "      <td>0</td>\n",
       "      <td>5</td>\n",
       "      <td>15.091959</td>\n",
       "      <td>0.059566</td>\n",
       "    </tr>\n",
       "    <tr>\n",
       "      <th>6</th>\n",
       "      <td>0</td>\n",
       "      <td>6</td>\n",
       "      <td>15.715111</td>\n",
       "      <td>0.059566</td>\n",
       "    </tr>\n",
       "    <tr>\n",
       "      <th>7</th>\n",
       "      <td>0</td>\n",
       "      <td>7</td>\n",
       "      <td>16.719338</td>\n",
       "      <td>0.059566</td>\n",
       "    </tr>\n",
       "    <tr>\n",
       "      <th>8</th>\n",
       "      <td>0</td>\n",
       "      <td>8</td>\n",
       "      <td>15.440641</td>\n",
       "      <td>0.059566</td>\n",
       "    </tr>\n",
       "    <tr>\n",
       "      <th>9</th>\n",
       "      <td>0</td>\n",
       "      <td>9</td>\n",
       "      <td>15.729928</td>\n",
       "      <td>0.059566</td>\n",
       "    </tr>\n",
       "    <tr>\n",
       "      <th>10</th>\n",
       "      <td>0</td>\n",
       "      <td>10</td>\n",
       "      <td>16.601004</td>\n",
       "      <td>0.059566</td>\n",
       "    </tr>\n",
       "    <tr>\n",
       "      <th>11</th>\n",
       "      <td>0</td>\n",
       "      <td>11</td>\n",
       "      <td>15.984006</td>\n",
       "      <td>0.059566</td>\n",
       "    </tr>\n",
       "    <tr>\n",
       "      <th>12</th>\n",
       "      <td>0</td>\n",
       "      <td>12</td>\n",
       "      <td>14.164092</td>\n",
       "      <td>0.059566</td>\n",
       "    </tr>\n",
       "    <tr>\n",
       "      <th>13</th>\n",
       "      <td>0</td>\n",
       "      <td>13</td>\n",
       "      <td>17.186858</td>\n",
       "      <td>0.059566</td>\n",
       "    </tr>\n",
       "  </tbody>\n",
       "</table>\n",
       "</div>"
      ],
      "text/plain": [
       "    ray_num  super_clump_number  median_col_desnity  mad_for_col_desnity\n",
       "0         0                   0           14.130134             0.059566\n",
       "1         0                   1           15.881839             0.059566\n",
       "2         0                   2           17.169586             0.059566\n",
       "3         0                   3           13.577525             0.059566\n",
       "4         0                   4           14.921572             0.050391\n",
       "5         0                   5           15.091959             0.059566\n",
       "6         0                   6           15.715111             0.059566\n",
       "7         0                   7           16.719338             0.059566\n",
       "8         0                   8           15.440641             0.059566\n",
       "9         0                   9           15.729928             0.059566\n",
       "10        0                  10           16.601004             0.059566\n",
       "11        0                  11           15.984006             0.059566\n",
       "12        0                  12           14.164092             0.059566\n",
       "13        0                  13           17.186858             0.059566"
      ]
     },
     "execution_count": 6,
     "metadata": {},
     "output_type": "execute_result"
    }
   ],
   "source": [
    "c2r0_pn = c2_pn[c2_pn[\"ray_num\"] == 0]\n",
    "c2r0_hm = c2_hm[c2_hm[\"ray_num\"] == 0]\n",
    "c2r0_fg = c2_fg[c2_fg[\"ray_num\"] == 0]\n",
    "c2r0_hm"
   ]
  },
  {
   "cell_type": "code",
   "execution_count": 7,
   "metadata": {},
   "outputs": [],
   "source": [
    "def plot_this(ionlis, labellis, title):\n",
    "    i = 0\n",
    "    for ion in ionlis:\n",
    "        plt.errorbar(ion[\"super_clump_number\"],ion[\"median_col_desnity\"], yerr = ion[\"mad_for_col_desnity\"], fmt = \".\", label = labelis[i])\n",
    "        i+=1\n",
    "    plt.xlabel(\"Clump ID\")\n",
    "    plt.ylabel(\"Column Density (log)\")\n",
    "    plt.title(title)\n",
    "    plt.legend()\n",
    "    plt.savefig(f\"./{title}.png\")\n",
    "    plt.show()\n",
    "    return"
   ]
  },
  {
   "cell_type": "code",
   "execution_count": null,
   "metadata": {},
   "outputs": [],
   "source": []
  },
  {
   "cell_type": "code",
   "execution_count": 29,
   "metadata": {
    "scrolled": true
   },
   "outputs": [
    {
     "data": {
      "image/png": "[encoded data removed]",
      "text/plain": [
       "<Figure size 432x288 with 1 Axes>"
      ]
     },
     "metadata": {
      "needs_background": "light"
     },
     "output_type": "display_data"
    }
   ],
   "source": [
    "c2_pn_r0 = c2_pn[c2_pn[\"ray_num\"] == 0]\n",
    "c2_hm_r0 = c2_hm[c2_hm[\"ray_num\"] == 0]\n",
    "c2_fg_r0 = c2_fg[c2_fg[\"ray_num\"] == 0]\n",
    "\n",
    "\n",
    "ionlis = [c2_pn_r0,c2_fg_r0,c2_hm_r0]\n",
    "labelis = [\"pn_2019\",\"fg_2009\",\"hm_2012\"]\n",
    "title = \"C_II_Median_Column_Densities\"\n",
    "plot_this(ionlis, labelis, title)\n",
    "plt.plot"
   ]
  },
  {
   "cell_type": "code",
   "execution_count": 30,
   "metadata": {},
   "outputs": [
    {
     "data": {
      "image/png": "[encoded data removed]",
      "text/plain": [
       "<Figure size 432x288 with 1 Axes>"
      ]
     },
     "metadata": {
      "needs_background": "light"
     },
     "output_type": "display_data"
    }
   ],
   "source": [
    "c4_pn_r0 = c4_pn[c4_pn[\"ray_num\"] == 0]\n",
    "c4_hm_r0 = c4_hm[c4_hm[\"ray_num\"] == 0]\n",
    "c4_fg_r0 = c4_fg[c4_fg[\"ray_num\"] == 0]\n",
    "\n",
    "\n",
    "ion_list = [c4_pn_r0,c4_hm_r0,c4_fg_r0]\n",
    "labelis = [\"pn_2019\",\"fg_2009\",\"hm_2012\"]\n",
    "title = \"C_IV_Median_Column_Densities\"\n",
    "\n",
    "plot_this(ion_list,labelis, title)"
   ]
  },
  {
   "cell_type": "code",
   "execution_count": 31,
   "metadata": {},
   "outputs": [
    {
     "data": {
      "image/png": "[encoded data removed]",
      "text/plain": [
       "<Figure size 432x288 with 1 Axes>"
      ]
     },
     "metadata": {
      "needs_background": "light"
     },
     "output_type": "display_data"
    }
   ],
   "source": [
    "o6_pn_r0 = o6_pn[o6_pn[\"ray_num\"] == 0]\n",
    "o6_hm_r0 = o6_hm[o6_hm[\"ray_num\"] == 0]\n",
    "o6_fg_r0 = o6_fg[o6_fg[\"ray_num\"] == 0]\n",
    "\n",
    "ion_list = [o6_pn_r0,o6_hm_r0,o6_fg_r0]\n",
    "labelis = [\"pn_2019\",\"fg_2009\",\"hm_2012\"]\n",
    "title = \"O_VI_Median_Column_Densities\"\n",
    "\n",
    "plot_this(ion_list,labelis, title)"
   ]
  },
  {
   "cell_type": "code",
   "execution_count": 6,
   "metadata": {},
   "outputs": [],
   "source": [
    "import configparser\n",
    "\n",
    "config = configparser.ConfigParser()\n",
    "\n",
    "config[\"base_settings\"] = {\"output_file\": \"/mnt/gs21/scratch/tairaeli\",\n",
    "                           \"abundance_file\": \"/mnt/home/tairaeli/trident_uncertainty/mods/abundances/scripts/abun_table.txt\",\n",
    "                           \"halo_directory\":\"/mnt/research/galaxies-REU/sims/FOGGIE\",\n",
    "                           \"foggie_dir\":\"/mnt/home/tairaeli/astro_libs/foggie/foggie/halo_infos\"}\n",
    "\n",
    "config[\"galaxy_settings\"] = {\"nrays\":4,\n",
    "                             \"gal_pattern\":2392,\n",
    "                             \"redshift\":20,\n",
    "                             \"ions\": 'C_II C_IV O_VI',\n",
    "                             \"field_items\": \"density temperature metallicity radius\",\n",
    "                             \"field_types\": \"gas NA NA index\",\n",
    "                             \"field_units\": \"g/cm**3 NA Zsun NA\",\n",
    "                             \"max_impact\":15}\n",
    "\n",
    "config[\"uvb_analysis\"] = {\"uvb_files\":\"/mnt/scratch/tairaeli/trident_inputs/par_test.h5 /mnt/home/tairaeli/trident_uncertainty/mods/abundances/data_bin/hm2012_ss_hr.h5\",\n",
    "                          \"uvb_names\":\"PCW_2019 HM_2012\"}\n",
    "\n",
    "config[\"halo_names\"] = {'2392'  :  'Hurricane' ,\n",
    "                        '2878'  :  'Cyclone' , \n",
    "                        '4123'  :  'Blizzard' , \n",
    "                        '5016'  :  'Squall' ,\n",
    "                        '5036'  :  'Maelstrom' , \n",
    "                        '8508'  :  'Tempest'}\n",
    "\n",
    "with open(\"/mnt/home/tairaeli/trident_uncertainty/mods/backgrounds/uv_sal/sal_params.par\", \"w\") as configfile:\n",
    "    config.write(configfile)\n"
   ]
  },
  {
   "cell_type": "code",
   "execution_count": 53,
   "metadata": {},
   "outputs": [
    {
     "data": {
      "text/plain": [
       "dict_keys(['density', 'metallicity'])"
      ]
     },
     "execution_count": 53,
     "metadata": {},
     "output_type": "execute_result"
    }
   ],
   "source": [
    "units = dict(density='g/cm**3', metallicity='Zsun')\n",
    "units.keys()"
   ]
  },
  {
   "cell_type": "code",
   "execution_count": 54,
   "metadata": {},
   "outputs": [
    {
     "data": {
      "text/plain": [
       "dict_keys(['density', 'metallicity'])"
      ]
     },
     "execution_count": 54,
     "metadata": {},
     "output_type": "execute_result"
    }
   ],
   "source": [
    "field_units = {\"density\":'g/cm**3', \"metallicity\":'Zsun'}\n",
    "field_units.keys()"
   ]
  },
  {
   "cell_type": "code",
   "execution_count": 9,
   "metadata": {},
   "outputs": [
    {
     "name": "stdout",
     "output_type": "stream",
     "text": [
      "<class 'list'>\n"
     ]
    }
   ],
   "source": [
    "lis = []\n",
    "print(type(lis))"
   ]
  },
  {
   "cell_type": "code",
   "execution_count": 55,
   "metadata": {},
   "outputs": [
    {
     "data": {
      "text/plain": [
       "['/mnt/home/tairaeli/trident_uncertainty/mods/backgrounds/uv_sal/sal_params.par']"
      ]
     },
     "execution_count": 55,
     "metadata": {},
     "output_type": "execute_result"
    }
   ],
   "source": [
    "sal_args = configparser.ConfigParser()\n",
    "sal_args.read(\"/mnt/home/tairaeli/trident_uncertainty/mods/backgrounds/uv_sal/sal_params.par\")"
   ]
  },
  {
   "cell_type": "code",
   "execution_count": 56,
   "metadata": {},
   "outputs": [
    {
     "data": {
      "text/plain": [
       "['/mnt/home/tairaeli/Junk/cloudy_cooling_tools_degraded/examples/ion_balance/test_bin/puchwein19_bkgthick.out',\n",
       " '/mnt/home/tairaeli/trident_uncertainty/mods/abundances/data_bin/hm2012_ss_hr.h5']"
      ]
     },
     "execution_count": 56,
     "metadata": {},
     "output_type": "execute_result"
    }
   ],
   "source": [
    "sal_args[\"uvb_analysis\"][\"uvb_files\"].split(\" \")"
   ]
  },
  {
   "cell_type": "code",
   "execution_count": 63,
   "metadata": {},
   "outputs": [],
   "source": [
    "items = sal_args.get(\"galaxy_settings\",\"field_items\").split(\" \")\n",
    "for item, i in enumerate()"
   ]
  },
  {
   "cell_type": "code",
   "execution_count": 60,
   "metadata": {},
   "outputs": [
    {
     "data": {
      "text/plain": [
       "['g/cm**3', 'NA', 'Zsun', 'NA']"
      ]
     },
     "execution_count": 60,
     "metadata": {},
     "output_type": "execute_result"
    }
   ],
   "source": [
    "a = sal_args.get(\"galaxy_settings\",\"field_units\").split(\" \")\n",
    "a"
   ]
  },
  {
   "cell_type": "code",
   "execution_count": 36,
   "metadata": {},
   "outputs": [
    {
     "name": "stdout",
     "output_type": "stream",
     "text": [
      "<class 'str'>\n",
      "abcd\n"
     ]
    }
   ],
   "source": [
    "a_string = \"abcd\"\n",
    "print(type(a_string))\n",
    "stripped_string = a_string.strip(\"'\")\n",
    "\n",
    "print(stripped_string)"
   ]
  },
  {
   "cell_type": "code",
   "execution_count": null,
   "metadata": {},
   "outputs": [],
   "source": []
  }
 ],
 "metadata": {
  "kernelspec": {
   "display_name": "Python 3",
   "language": "python",
   "name": "python3"
  },
  "language_info": {
   "codemirror_mode": {
    "name": "ipython",
    "version": 3
   },
   "file_extension": ".py",
   "mimetype": "text/x-python",
   "name": "python",
   "nbconvert_exporter": "python",
   "pygments_lexer": "ipython3",
   "version": "3.6.4"
  }
 },
 "nbformat": 4,
 "nbformat_minor": 2
}
