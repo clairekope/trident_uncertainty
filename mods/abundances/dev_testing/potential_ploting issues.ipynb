{
 "cells": [
  {
   "cell_type": "code",
   "execution_count": 8,
   "metadata": {},
   "outputs": [],
   "source": [
    "import pandas as pd\n",
    "import numpy as np\n",
    "import matplotlib.pyplot as plt"
   ]
  },
  {
   "cell_type": "code",
   "execution_count": 9,
   "metadata": {},
   "outputs": [],
   "source": [
    "with open(\"./temp_filelist.txt\") as f:\n",
    "    files = f.read().splitlines()\n",
    "\n",
    "preliminary_dummy_data = pd.read_csv(files[0], delim_whitespace=True)\n",
    "ion_position = files[0].find('.',5)-4\n",
    "\n",
    "ion = files[0][ion_position]\n",
    "\n",
    "for i in range(ion_position+1, ion_position+4):\n",
    "    ion += files[0][i]\n",
    "\n",
    "tick_range = int(round(len(files)/2, 0))\n",
    "num_ticks = list(range(-1*(tick_range+1), tick_range+1, 1))\n",
    "tick_labels = [' ']\n",
    "for i in range(1, len(num_ticks)-2):\n",
    "    tick_labels.append(f'row {i-1}')\n",
    "tick_labels.append(' ')\n",
    "tick_labels.append(' ')"
   ]
  },
  {
   "cell_type": "code",
   "execution_count": 21,
   "metadata": {},
   "outputs": [
    {
     "name": "stdout",
     "output_type": "stream",
     "text": [
      "13\n"
     ]
    },
    {
     "data": {
      "image/png": "[encoded data removed]",
      "text/plain": [
       "<Figure size 432x288 with 1 Axes>"
      ]
     },
     "metadata": {
      "needs_background": "light"
     },
     "output_type": "display_data"
    }
   ],
   "source": [
    "rows = pd.DataFrame()\n",
    "\n",
    "for ray_num in range(1):\n",
    "    \n",
    "    for i in range(1):\n",
    "        data = pd.read_csv(files[i], delim_whitespace=True)\n",
    "        ray_data = data[data['lightray_index']==ray_num]\n",
    "        rows[\"st\"] = ray_data['interval_start']\n",
    "        rows[\"ed\"] = ray_data['interval_end']\n",
    "        print(ray_data.shape[0])\n",
    "        plt.hlines(np.ones(ray_data.shape[0])*num_ticks[i+1], ray_data['interval_start'], ray_data['interval_end'])\n",
    "        plt.title(f\"{ion} -- Cell Index {ray_num}\")\n",
    "        plt.xlabel(\"Cell Index\")\n",
    "#         plt.yticks(num_ticks, tick_labels)"
   ]
  },
  {
   "cell_type": "code",
   "execution_count": 31,
   "metadata": {},
   "outputs": [
    {
     "data": {
      "text/html": [
       "<div>\n",
       "<style scoped>\n",
       "    .dataframe tbody tr th:only-of-type {\n",
       "        vertical-align: middle;\n",
       "    }\n",
       "\n",
       "    .dataframe tbody tr th {\n",
       "        vertical-align: top;\n",
       "    }\n",
       "\n",
       "    .dataframe thead th {\n",
       "        text-align: right;\n",
       "    }\n",
       "</style>\n",
       "<table border=\"1\" class=\"dataframe\">\n",
       "  <thead>\n",
       "    <tr style=\"text-align: right;\">\n",
       "      <th></th>\n",
       "      <th>st</th>\n",
       "      <th>ed</th>\n",
       "    </tr>\n",
       "  </thead>\n",
       "  <tbody>\n",
       "    <tr>\n",
       "      <th>0</th>\n",
       "      <td>47</td>\n",
       "      <td>95.0</td>\n",
       "    </tr>\n",
       "    <tr>\n",
       "      <th>2</th>\n",
       "      <td>121</td>\n",
       "      <td>123.0</td>\n",
       "    </tr>\n",
       "    <tr>\n",
       "      <th>3</th>\n",
       "      <td>124</td>\n",
       "      <td>127.0</td>\n",
       "    </tr>\n",
       "    <tr>\n",
       "      <th>4</th>\n",
       "      <td>134</td>\n",
       "      <td>142.0</td>\n",
       "    </tr>\n",
       "    <tr>\n",
       "      <th>5</th>\n",
       "      <td>211</td>\n",
       "      <td>422.0</td>\n",
       "    </tr>\n",
       "    <tr>\n",
       "      <th>6</th>\n",
       "      <td>422</td>\n",
       "      <td>598.0</td>\n",
       "    </tr>\n",
       "  </tbody>\n",
       "</table>\n",
       "</div>"
      ],
      "text/plain": [
       "    st     ed\n",
       "0   47   95.0\n",
       "2  121  123.0\n",
       "3  124  127.0\n",
       "4  134  142.0\n",
       "5  211  422.0\n",
       "6  422  598.0"
      ]
     },
     "execution_count": 31,
     "metadata": {},
     "output_type": "execute_result"
    }
   ],
   "source": [
    "rows[0:6]"
   ]
  },
  {
   "cell_type": "code",
   "execution_count": 32,
   "metadata": {},
   "outputs": [
    {
     "data": {
      "text/plain": [
       "<matplotlib.collections.LineCollection at 0x2b2e52b0c4a8>"
      ]
     },
     "execution_count": 32,
     "metadata": {},
     "output_type": "execute_result"
    },
    {
     "data": {
      "image/png": "[encoded data removed]",
      "text/plain": [
       "<Figure size 432x288 with 1 Axes>"
      ]
     },
     "metadata": {
      "needs_background": "light"
     },
     "output_type": "display_data"
    }
   ],
   "source": [
    "plt.hlines(np.ones(5),rows[\"st\"][0:5],rows[\"ed\"][0:5])"
   ]
  },
  {
   "cell_type": "code",
   "execution_count": null,
   "metadata": {},
   "outputs": [],
   "source": []
  }
 ],
 "metadata": {
  "kernelspec": {
   "display_name": "Python 3",
   "language": "python",
   "name": "python3"
  },
  "language_info": {
   "codemirror_mode": {
    "name": "ipython",
    "version": 3
   },
   "file_extension": ".py",
   "mimetype": "text/x-python",
   "name": "python",
   "nbconvert_exporter": "python",
   "pygments_lexer": "ipython3",
   "version": "3.6.4"
  }
 },
 "nbformat": 4,
 "nbformat_minor": 2
}
